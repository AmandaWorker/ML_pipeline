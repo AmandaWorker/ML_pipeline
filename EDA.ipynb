{
 "cells": [
  {
   "cell_type": "code",
   "execution_count": 1,
   "id": "27251d3a-55f8-44d7-a4a1-7723da40df73",
   "metadata": {},
   "outputs": [
    {
     "name": "stderr",
     "output_type": "stream",
     "text": [
      "/opt/miniconda3/envs/mlflow-6781a37b08a042b0c14996a2d82ea7bbc3c83c8b/lib/python3.8/site-packages/tqdm/auto.py:21: TqdmWarning: IProgress not found. Please update jupyter and ipywidgets. See https://ipywidgets.readthedocs.io/en/stable/user_install.html\n",
      "  from .autonotebook import tqdm as notebook_tqdm\n"
     ]
    }
   ],
   "source": [
    "import wandb\n",
    "import pandas\n",
    "import ydata_profiling\n",
    "import matplotlib.pyplot as plt\n"
   ]
  },
  {
   "cell_type": "code",
   "execution_count": null,
   "id": "c627ddbf-414a-4022-92f4-1c0518efa22a",
   "metadata": {},
   "outputs": [],
   "source": [
    "run = wandb.init(project='exercise_4', save_code=True)"
   ]
  },
  {
   "cell_type": "code",
   "execution_count": null,
   "id": "56ad7b58-4396-43c2-a51b-a030a579bc9f",
   "metadata": {},
   "outputs": [],
   "source": [
    "artifact = run.use_artifact(\"exercise_4/genres_mod.parquet:latest\")"
   ]
  },
  {
   "cell_type": "code",
   "execution_count": null,
   "id": "befa15bb-06b9-4f54-b3bd-87c448f90115",
   "metadata": {},
   "outputs": [],
   "source": [
    "local_path = artifact.file()"
   ]
  },
  {
   "cell_type": "code",
   "execution_count": null,
   "id": "f73edd36-5947-450b-ba3f-3f0424ba6628",
   "metadata": {},
   "outputs": [],
   "source": [
    "print(local_path)"
   ]
  },
  {
   "cell_type": "code",
   "execution_count": null,
   "id": "3477fe3a-1f1a-4f41-978c-f2b042774427",
   "metadata": {},
   "outputs": [],
   "source": [
    "df = pd.read_parquet(local_path)"
   ]
  },
  {
   "cell_type": "code",
   "execution_count": null,
   "id": "9e5c1cb2-1a03-486a-a4a0-5f7ed22bdf39",
   "metadata": {},
   "outputs": [],
   "source": []
  }
 ],
 "metadata": {
  "kernelspec": {
   "display_name": "Python 3",
   "language": "python",
   "name": "python3"
  },
  "language_info": {
   "codemirror_mode": {
    "name": "ipython",
    "version": 3
   },
   "file_extension": ".py",
   "mimetype": "text/x-python",
   "name": "python",
   "nbconvert_exporter": "python",
   "pygments_lexer": "ipython3",
   "version": "3.8.20"
  }
 },
 "nbformat": 4,
 "nbformat_minor": 5
}
